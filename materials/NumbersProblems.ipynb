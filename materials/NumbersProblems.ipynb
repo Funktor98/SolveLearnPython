{
 "cells": [
  {
   "cell_type": "markdown",
   "metadata": {},
   "source": [
    "# Problems about Numbers"
   ]
  },
  {
   "cell_type": "markdown",
   "metadata": {},
   "source": [
    "**Задача 1.** Написать программу, принимающую на вход трёхзначное число **a**, и выводяющую \n",
    "- Последнюю цифру числа **a**\n",
    "- Первую цифру числа **a**\n",
    "- Сумму его цифр"
   ]
  },
  {
   "cell_type": "code",
   "execution_count": null,
   "metadata": {
    "collapsed": true
   },
   "outputs": [],
   "source": []
  },
  {
   "cell_type": "markdown",
   "metadata": {},
   "source": [
    "**Задача 2.** Написать программу, принимающую на вход число **a**, и выводяющую его длину."
   ]
  },
  {
   "cell_type": "code",
   "execution_count": null,
   "metadata": {
    "collapsed": true
   },
   "outputs": [],
   "source": []
  },
  {
   "cell_type": "markdown",
   "metadata": {},
   "source": [
    "**Задача 3.** Написать программу, принимающую на вход число **n** и выводяющую следующее за ним четное число, не используя *if*."
   ]
  },
  {
   "cell_type": "code",
   "execution_count": 24,
   "metadata": {
    "ExecuteTime": {
     "end_time": "2021-09-18T11:30:28.089307Z",
     "start_time": "2021-09-18T11:30:25.724047Z"
    }
   },
   "outputs": [
    {
     "name": "stdout",
     "output_type": "stream",
     "text": [
      "20\n",
      "22\n"
     ]
    }
   ],
   "source": [
    "k = int(input())\n",
    "n = k // 2 * 2 + 2\n",
    "print(n)"
   ]
  },
  {
   "cell_type": "markdown",
   "metadata": {},
   "source": [
    "**Задача 4.** На вход подаются два числа - **n** и **m**. За день машина проезжает **n** километров. Какое (целое) колличество дней ей потребуется для того, чтобы проехать **m** километров?"
   ]
  },
  {
   "cell_type": "code",
   "execution_count": 35,
   "metadata": {
    "ExecuteTime": {
     "end_time": "2021-09-18T11:48:17.335991Z",
     "start_time": "2021-09-18T11:48:13.172208Z"
    }
   },
   "outputs": [
    {
     "name": "stdout",
     "output_type": "stream",
     "text": [
      "5\n",
      "9\n",
      "2\n"
     ]
    }
   ],
   "source": [
    "import math\n",
    "\n",
    "n = int(input())\n",
    "m = int(input())\n",
    "k = math.ceil(m / n)\n",
    "print(k)"
   ]
  },
  {
   "cell_type": "markdown",
   "metadata": {},
   "source": [
    "**Задача 5.** Написать программу, принимающую на вход числа **a** и **b** и выводящую стандартный вид деления **a** на **b** с остатком. $(a = b \\cdot c + r, \\, \\, \\, 0 \\leq r \\le b)$"
   ]
  },
  {
   "cell_type": "code",
   "execution_count": 43,
   "metadata": {
    "ExecuteTime": {
     "end_time": "2021-09-18T12:02:24.496161Z",
     "start_time": "2021-09-18T12:02:21.908867Z"
    }
   },
   "outputs": [
    {
     "name": "stdout",
     "output_type": "stream",
     "text": [
      "10\n",
      "3\n",
      "a = 3 * 3 + 1\n",
      "a = 3 * 3 + 1\n"
     ]
    }
   ],
   "source": [
    "a = int(input())\n",
    "b = int(input())\n",
    "c = (a // b)\n",
    "r = (a % b)\n",
    "print('a = {} * {} + {}'.format(b, c, r))\n",
    "# print(f'a = {b} * {c} + {r}')\n"
   ]
  },
  {
   "cell_type": "markdown",
   "metadata": {},
   "source": [
    " **Задача 6.** Пирожок в столовой стоит **a** рублей **b** копеек. Григорий собирается в школу и хочет купить **n** пирожков. Сколько денег ему нужно попросить у мамы? На вход подаются три числа - **a**, **b**, **n**. (Ответ вывести в формате **x** рублей и **y** копеек)."
   ]
  },
  {
   "cell_type": "code",
   "execution_count": 54,
   "metadata": {
    "ExecuteTime": {
     "end_time": "2021-09-18T12:41:33.109562Z",
     "start_time": "2021-09-18T12:41:27.364240Z"
    }
   },
   "outputs": [
    {
     "name": "stdout",
     "output_type": "stream",
     "text": [
      "Введите кол-во рублей за пирожок: 12\n",
      "Введите кол-во копеек за пирожок: 90\n",
      "Введите кол-во пирожков: 2\n",
      "25 рублей 80 копеек\n"
     ]
    }
   ],
   "source": [
    "a = int(input(prompt='Введите кол-во рублей за пирожок: '))\n",
    "b = int(input(prompt='Введите кол-во копеек за пирожок: '))\n",
    "n = int(input(prompt='Введите кол-во пирожков: '))\n",
    "\n",
    "initial_rub = a * n\n",
    "initial_cop = b * n\n",
    "\n",
    "additional_rub = initial_cop // 100\n",
    "final_rub = initial_rub + additional_rub\n",
    "final_cop = initial_cop % 100\n",
    "\n",
    "print('{} рублей {} копеек'.format(final_rub, final_cop))"
   ]
  },
  {
   "cell_type": "markdown",
   "metadata": {},
   "source": [
    "**Задача 7.** В этой задаче необходимо выяснить, что больше - $e^{\\,\\large\\pi}$ или $\\pi^{\\large{}e}$."
   ]
  },
  {
   "cell_type": "code",
   "execution_count": 61,
   "metadata": {
    "ExecuteTime": {
     "end_time": "2021-09-18T12:49:11.853761Z",
     "start_time": "2021-09-18T12:49:11.844280Z"
    }
   },
   "outputs": [
    {
     "name": "stdout",
     "output_type": "stream",
     "text": [
      "е в степени пи больше:  True\n"
     ]
    }
   ],
   "source": [
    "import math\n",
    "\n",
    "a = math.e ** math.pi\n",
    "b = math.pi ** math.e\n",
    "c = (a > b)\n",
    "\n",
    "print('е в степени пи больше: ', c)\n"
   ]
  },
  {
   "cell_type": "markdown",
   "metadata": {},
   "source": [
    "**Задача 8.** На сколько отличаются $\\sqrt{10}$ и $\\pi$?"
   ]
  },
  {
   "cell_type": "code",
   "execution_count": 4,
   "metadata": {},
   "outputs": [
    {
     "name": "stdout",
     "output_type": "stream",
     "text": [
      "0.020685006578586407\n"
     ]
    }
   ],
   "source": [
    "import math\n",
    "\n",
    "a = math.sqrt(10)\n",
    "b = math.pi\n",
    "c = math.fabs(a - b)\n",
    "print(c)"
   ]
  },
  {
   "cell_type": "markdown",
   "metadata": {},
   "source": [
    "**Задача 9.** На вход подается три числа - **a**, **b**, **c**. Проверить, что треугольник с такими сторонами существует и вывести его площадь."
   ]
  },
  {
   "cell_type": "code",
   "execution_count": 33,
   "metadata": {},
   "outputs": [
    {
     "name": "stdout",
     "output_type": "stream",
     "text": [
      "3\n",
      "4\n",
      "5\n",
      "True\n",
      "6.0\n"
     ]
    }
   ],
   "source": [
    "import math\n",
    "\n",
    "a = int(input())\n",
    "b = int(input())\n",
    "c = int(input())\n",
    "\n",
    "tr_exists = (a < (b + c)) and (b < (a + c)) and (c < (b + a))\n",
    "print(tr_exists)\n",
    "\n",
    "if tr_exists:\n",
    "    p = (a + b + c) / 2\n",
    "    area = math.sqrt(p * (p - a) * (p - b) * (p - c))\n",
    "    print(area)"
   ]
  },
  {
   "cell_type": "markdown",
   "metadata": {},
   "source": [
    "**Задача 10.** Вывести наименьший корень уравнения $a x^2 + b x + c = 0$, если он существует."
   ]
  },
  {
   "cell_type": "code",
   "execution_count": 96,
   "metadata": {},
   "outputs": [
    {
     "name": "stdout",
     "output_type": "stream",
     "text": [
      "1\n",
      "3\n",
      "2\n",
      "два корня, наименьший:\n",
      "-2.0\n"
     ]
    }
   ],
   "source": [
    "import math\n",
    "\n",
    "a = int(input())\n",
    "b = int(input())\n",
    "c = int(input())\n",
    "D = b * b - 4 * a * c\n",
    "\n",
    "if (a == 0) and (b == 0) and (c == 0):\n",
    "    print('минимальный корень не существует!')\n",
    "if (a == 0) and (b == 0) and (c != 0):\n",
    "    print('корней нет!')\n",
    "if (a == 0) and (b != 0) and (c == 0):\n",
    "    print('один корень, равный нулю')\n",
    "if (a == 0) and (b != 0) and (c != 0):\n",
    "    x = (-c) / b\n",
    "    print('один корень, равный {}'.format(x))  \n",
    "if (a != 0):    \n",
    "    if (D < 0):\n",
    "        print('корней нет!')\n",
    "    \n",
    "    if (D == 0):\n",
    "        print('один корень:')\n",
    "        x = (-b) / (2 * a)\n",
    "        print(x)\n",
    "    \n",
    "    if (D > 0):\n",
    "        print('два корня, наименьший:')\n",
    "        x_1 = ((-b) - math.sqrt(D)) / (2 * a)\n",
    "        x_2 = ((-b) + math.sqrt(D)) / (2 * a)\n",
    "        print(min(x_1, x_2))\n",
    "        "
   ]
  },
  {
   "cell_type": "code",
   "execution_count": null,
   "metadata": {},
   "outputs": [],
   "source": [
    "import math\n",
    "\n",
    "a = int(input())\n",
    "b = int(input())\n",
    "c = int(input())\n",
    "D = b * b - 4 * a * c\n",
    "\n",
    "if a == 0:\n",
    "    if b != 0:\n",
    "        # bx + c = 0   --->  x = -c/b\n",
    "        print('один корень, равный {}'.format(-c / b))\n",
    "    else:\n",
    "        print('минимальный корень не существует!')\n",
    "else:\n",
    "    if D < 0:\n",
    "        print('корней нет!')\n",
    "    elif D == 0:\n",
    "        print('один корень:')\n",
    "        x = (-b) / (2 * a)\n",
    "        print(x)\n",
    "    else:\n",
    "        print('два корня, наименьший:')\n",
    "        x_1 = ((-b) - math.sqrt(D)) / (2 * a)\n",
    "        x_2 = ((-b) + math.sqrt(D)) / (2 * a)\n",
    "        print(min(x_1, x_2))\n"
   ]
  },
  {
   "cell_type": "code",
   "execution_count": null,
   "metadata": {},
   "outputs": [],
   "source": []
  },
  {
   "cell_type": "markdown",
   "metadata": {},
   "source": [
    "Про `if`ы"
   ]
  },
  {
   "cell_type": "code",
   "execution_count": null,
   "metadata": {},
   "outputs": [],
   "source": [
    "n = int(input())\n",
    "\n",
    "if n % 2:\n",
    "    print('odd')\n",
    "else:\n",
    "    print('even')"
   ]
  },
  {
   "cell_type": "code",
   "execution_count": 51,
   "metadata": {},
   "outputs": [
    {
     "name": "stdout",
     "output_type": "stream",
     "text": [
      "hello 123 123\n",
      "hello,123,123\n"
     ]
    }
   ],
   "source": [
    "a = input().split()\n",
    "\n",
    "if not a:\n",
    "    print('list is empty!')\n",
    "else:\n",
    "    print(','.join(a))"
   ]
  },
  {
   "cell_type": "code",
   "execution_count": 35,
   "metadata": {},
   "outputs": [
    {
     "name": "stdout",
     "output_type": "stream",
     "text": [
      "2\n",
      "n%2 == 0 is True, so\n",
      "even\n"
     ]
    }
   ],
   "source": [
    "n = int(input())\n",
    "\n",
    "if n % 2 == 0:\n",
    "    print('n%2 == 0 is True, so')\n",
    "    print('even')\n",
    "else:\n",
    "    print('n%2 == 0 is False, so')\n",
    "    print('odd')"
   ]
  },
  {
   "cell_type": "code",
   "execution_count": 40,
   "metadata": {
    "scrolled": true
   },
   "outputs": [
    {
     "name": "stdout",
     "output_type": "stream",
     "text": [
      "1\n",
      "n is 1-digit number\n"
     ]
    }
   ],
   "source": [
    "n = int(input())\n",
    "\n",
    "if n < 0:\n",
    "    print('n is negative')\n",
    "else:\n",
    "    if n < 10:\n",
    "        print('n is 1-digit number')\n",
    "    else:\n",
    "        if n < 100:\n",
    "            print('n is 2-digit number')\n",
    "        else:\n",
    "            print('n is laaarge')"
   ]
  },
  {
   "cell_type": "code",
   "execution_count": 41,
   "metadata": {},
   "outputs": [
    {
     "name": "stdout",
     "output_type": "stream",
     "text": [
      "n is 1-digit number\n"
     ]
    }
   ],
   "source": [
    "if n < 0:\n",
    "    print('n is negative')\n",
    "elif n < 10:\n",
    "    print('n is 1-digit number')\n",
    "elif n < 100:\n",
    "    print('n is 2-digit number')\n",
    "else:\n",
    "    print('n is laaarge')"
   ]
  },
  {
   "cell_type": "markdown",
   "metadata": {},
   "source": [
    "---"
   ]
  },
  {
   "cell_type": "code",
   "execution_count": null,
   "metadata": {},
   "outputs": [],
   "source": []
  },
  {
   "cell_type": "markdown",
   "metadata": {},
   "source": [
    "**Задача 11.** На вход подается 4 числа от 1 до 8 - **a, b, c, d** - координаты двух фигур на шахматной доске (a,b) и (c,d). Определить, бьют ли они друг друга, если \n",
    "- это ладьи\n",
    "- это слоны\n",
    "- это кони"
   ]
  },
  {
   "cell_type": "markdown",
   "metadata": {},
   "source": [
    "**Задача 12.** Даны значения двух моментов времени, принадлежащих одним и тем же суткам: часы, секунды и минуты для каждого из моментов времени. Известно, что второй момент наступил не раньше первого. Необходимо определить, сколько секунд прошло между этими моментами времени. На вход подается 6 чисел - первые 3 для первого момента времени, вторые - для второго."
   ]
  },
  {
   "cell_type": "code",
   "execution_count": null,
   "metadata": {},
   "outputs": [],
   "source": []
  },
  {
   "cell_type": "code",
   "execution_count": null,
   "metadata": {},
   "outputs": [],
   "source": []
  },
  {
   "cell_type": "code",
   "execution_count": null,
   "metadata": {},
   "outputs": [],
   "source": []
  },
  {
   "cell_type": "code",
   "execution_count": null,
   "metadata": {},
   "outputs": [],
   "source": []
  },
  {
   "cell_type": "code",
   "execution_count": null,
   "metadata": {},
   "outputs": [],
   "source": []
  },
  {
   "cell_type": "code",
   "execution_count": null,
   "metadata": {},
   "outputs": [],
   "source": [
    "import math\n",
    "\n",
    "a = int(input())\n",
    "b = int(input())\n",
    "c = int(input())"
   ]
  },
  {
   "cell_type": "markdown",
   "metadata": {},
   "source": [
    "**Задача 13.** Даны дроби $\\frac{a_1}{b_1}$ и $\\frac{a_2}{b_2}$. Найти такую дробь $\\frac{x}{y}$, что $\\frac{a_1}{b_1} \\le \\frac{x}{y} \\le \\frac{a_2}{b_2}$."
   ]
  },
  {
   "cell_type": "code",
   "execution_count": null,
   "metadata": {},
   "outputs": [],
   "source": []
  },
  {
   "cell_type": "markdown",
   "metadata": {},
   "source": [
    "**Задача 14(\\*)** В условии предыдущей задачи, среди всех таких дробей $\\frac{x}{y}$ (сколько их всего?) найти дробь с наименьшим $y$"
   ]
  },
  {
   "cell_type": "code",
   "execution_count": null,
   "metadata": {},
   "outputs": [],
   "source": []
  }
 ],
 "metadata": {
  "kernelspec": {
   "display_name": "Python 3 (ipykernel)",
   "language": "python",
   "name": "python3"
  },
  "language_info": {
   "codemirror_mode": {
    "name": "ipython",
    "version": 3
   },
   "file_extension": ".py",
   "mimetype": "text/x-python",
   "name": "python",
   "nbconvert_exporter": "python",
   "pygments_lexer": "ipython3",
   "version": "3.8.3"
  }
 },
 "nbformat": 4,
 "nbformat_minor": 2
}
