{
 "cells": [
  {
   "cell_type": "markdown",
   "metadata": {},
   "source": [
    "# Problems about Strings"
   ]
  },
  {
   "cell_type": "markdown",
   "metadata": {},
   "source": [
    "**Задача 1.** Написать программу, принимающую на вход пару строк - **s1**, **s2** и печатающую 3 раза **s1** и 2 раза **s2** в одну строчку. Например по входным данным **s1 = 'ab'**, **s2 = 'c'** должно получиться **'abababcc'**. Оператор **+** можно использовать лишь один раз."
   ]
  },
  {
   "cell_type": "code",
   "execution_count": 1,
   "metadata": {},
   "outputs": [
    {
     "name": "stdout",
     "output_type": "stream",
     "text": [
      "ab\n",
      "c\n",
      "abababcc\n"
     ]
    }
   ],
   "source": [
    "s1 = input()\n",
    "s2 = input()\n",
    "print(s1 * 3 + s2 * 2)"
   ]
  },
  {
   "cell_type": "markdown",
   "metadata": {},
   "source": [
    "**Задача 2.** То же, что в **№1**, но строки должны быть разделены пробелом: $({\\it{}ab}, {\\it{}c}) \\to {\\it{}ab\\ ab\\ ab\\ c\\ c}$. Ограничение на использование оператора **+**  снимается."
   ]
  },
  {
   "cell_type": "code",
   "execution_count": null,
   "metadata": {},
   "outputs": [],
   "source": []
  },
  {
   "cell_type": "markdown",
   "metadata": {},
   "source": [
    "**Задача 3.** На вход подается строка **s**. Напечатать два раза **s** (второй раз - с новой строки), используя лишь один вызов функции **print()**."
   ]
  },
  {
   "cell_type": "code",
   "execution_count": null,
   "metadata": {},
   "outputs": [],
   "source": []
  },
  {
   "cell_type": "markdown",
   "metadata": {},
   "source": [
    "**Задача 4.** На вход подается строка **s**. Вывести **s**, повторенную столько раз, какова ее длина. Например $(\\bf{}{\\it{}abc} \\to {\\it{}abcabcabc};\\ \\ {\\it{}ab} \\to {\\it{}abab})$"
   ]
  },
  {
   "cell_type": "code",
   "execution_count": null,
   "metadata": {},
   "outputs": [],
   "source": []
  },
  {
   "cell_type": "markdown",
   "metadata": {},
   "source": [
    "**Задача 5.** На вход подается строка **s**. Вывести символ, стоящий ровно посередине, если строка имеет нечетную длину (Для приведения числа к целому типу (**int**), используйте функцию **int()**. Например **int(3.0) = 3**"
   ]
  },
  {
   "cell_type": "code",
   "execution_count": null,
   "metadata": {},
   "outputs": [],
   "source": []
  },
  {
   "cell_type": "markdown",
   "metadata": {},
   "source": [
    "**Задача 6.** На вход подается строка **s**. Вывести 3ий символ с конца."
   ]
  },
  {
   "cell_type": "code",
   "execution_count": null,
   "metadata": {},
   "outputs": [],
   "source": []
  },
  {
   "cell_type": "markdown",
   "metadata": {},
   "source": [
    "**Задача 7.** На вход подается строка **s** длины не меньше 2. Назовем центральной частью строки символы со второго по предпоследний. Выведите ее, записав центральную часть задом наперед. Например $abcefg \\to afecbg$."
   ]
  },
  {
   "cell_type": "code",
   "execution_count": null,
   "metadata": {},
   "outputs": [],
   "source": []
  },
  {
   "cell_type": "markdown",
   "metadata": {},
   "source": [
    "**Задача 8.** Проверить, является ли строка палиндромом, то есть верно ли, что задом наперед она читается так же, как в прямом порядке"
   ]
  },
  {
   "cell_type": "code",
   "execution_count": 1,
   "metadata": {
    "ExecuteTime": {
     "end_time": "2021-09-18T11:18:25.369569Z",
     "start_time": "2021-09-18T11:18:25.359483Z"
    },
    "scrolled": true
   },
   "outputs": [
    {
     "name": "stdout",
     "output_type": "stream",
     "text": [
      "True\n"
     ]
    }
   ],
   "source": [
    "s = 'шалаш'\n",
    "a = s[::-1]\n",
    "b = s == a\n",
    "print(b)"
   ]
  },
  {
   "cell_type": "code",
   "execution_count": 36,
   "metadata": {
    "ExecuteTime": {
     "end_time": "2021-09-12T13:13:08.706279Z",
     "start_time": "2021-09-12T13:13:08.701001Z"
    }
   },
   "outputs": [
    {
     "name": "stdout",
     "output_type": "stream",
     "text": [
      "True\n"
     ]
    }
   ],
   "source": [
    "print(s == s[::-1])"
   ]
  },
  {
   "cell_type": "markdown",
   "metadata": {},
   "source": [
    "**Задача 9.** Написать программу, запрашивающую строку у пользователя и шифрующая ее следующим образом - сначала все четные символы, затем все нечетные. $(\\it{}abcdefg \\to acegbdf)$"
   ]
  },
  {
   "cell_type": "code",
   "execution_count": 38,
   "metadata": {
    "ExecuteTime": {
     "end_time": "2021-09-12T13:15:03.032550Z",
     "start_time": "2021-09-12T13:15:03.020478Z"
    }
   },
   "outputs": [
    {
     "name": "stdout",
     "output_type": "stream",
     "text": [
      "acegbdf\n"
     ]
    }
   ],
   "source": [
    "s = '12345678'\n",
    "s = 'abcdefg'\n",
    "s_even = s[0::2]\n",
    "s_odd = s[1::2]\n",
    "print(s_even + s_odd)"
   ]
  },
  {
   "cell_type": "markdown",
   "metadata": {},
   "source": [
    "**Задача 10.** То же, что в №9, но после четных символов нечетные символы должны быть записаны в обратном порядке. $(\\it{}abcdefg \\to acegfdb)$ "
   ]
  },
  {
   "cell_type": "code",
   "execution_count": 24,
   "metadata": {
    "ExecuteTime": {
     "end_time": "2021-09-12T13:02:56.628258Z",
     "start_time": "2021-09-12T13:02:56.624625Z"
    }
   },
   "outputs": [
    {
     "name": "stdout",
     "output_type": "stream",
     "text": [
      "acegfdb\n"
     ]
    }
   ],
   "source": [
    "s = 'abcdefg'\n",
    "s_even = s[0::2]\n",
    "s_odd = s[1::2][::-1]\n",
    "print(s_even + s_odd)"
   ]
  },
  {
   "cell_type": "markdown",
   "metadata": {},
   "source": [
    "**Задача 11.** На вход подается две строки - **s1**, **s2**, и число **n**, не превосходящее **len(s1)**. Вывести **s1**, в которую входит **s2** начиная с индекса **n** (а затем продолжается строка **s1**). Например $(\\it{}abcdefg, xyz, 3 \\to abcxyzdefg)$"
   ]
  },
  {
   "cell_type": "code",
   "execution_count": 40,
   "metadata": {
    "ExecuteTime": {
     "end_time": "2021-09-12T13:16:03.658867Z",
     "start_time": "2021-09-12T13:16:03.655046Z"
    }
   },
   "outputs": [
    {
     "name": "stdout",
     "output_type": "stream",
     "text": [
      "abcxyzdefg\n"
     ]
    }
   ],
   "source": [
    "s1 = 'abcdefg'\n",
    "s2 = 'xyz'\n",
    "n = 3\n",
    "print(s1[:n] + s2 + s1[n:])"
   ]
  },
  {
   "cell_type": "markdown",
   "metadata": {},
   "source": [
    "**Задача 12.** Удалить из введенной строки все пробелы и запятые."
   ]
  },
  {
   "cell_type": "code",
   "execution_count": 43,
   "metadata": {
    "ExecuteTime": {
     "end_time": "2021-09-12T13:40:23.326898Z",
     "start_time": "2021-09-12T13:40:23.320418Z"
    }
   },
   "outputs": [
    {
     "data": {
      "text/plain": [
       "'123456789'"
      ]
     },
     "execution_count": 43,
     "metadata": {},
     "output_type": "execute_result"
    }
   ],
   "source": [
    "f ='12 34 56,  ,,7  89'\n",
    "f.replace(' ', '').replace(',', '')"
   ]
  },
  {
   "cell_type": "markdown",
   "metadata": {},
   "source": [
    "**Задача 13.** Вывести, правда ли, что число букв $\\bf a$ на четных позициях больше, чем на нечетных. На сколько отличаются эти числа?"
   ]
  },
  {
   "cell_type": "code",
   "execution_count": 52,
   "metadata": {
    "ExecuteTime": {
     "end_time": "2021-09-12T13:48:38.785871Z",
     "start_time": "2021-09-12T13:48:38.773198Z"
    }
   },
   "outputs": [
    {
     "name": "stdout",
     "output_type": "stream",
     "text": [
      "7\n",
      "3\n",
      "False\n"
     ]
    }
   ],
   "source": [
    "a = 'abacabaaaaaabba'\n",
    "a1 = a[0::2]\n",
    "a2 = a[1::2]\n",
    "print (a1.count('a'))\n",
    "print (a2.count('a'))\n",
    "print(a1.count('a') < a2.count('a'))"
   ]
  },
  {
   "cell_type": "markdown",
   "metadata": {},
   "source": [
    "**Задача 14.** Воспользовавшись шаблоном ниже вывести таблицу умножения на число 8."
   ]
  },
  {
   "cell_type": "code",
   "execution_count": 61,
   "metadata": {
    "ExecuteTime": {
     "end_time": "2021-09-12T13:59:45.775071Z",
     "start_time": "2021-09-12T13:59:45.771406Z"
    }
   },
   "outputs": [
    {
     "name": "stdout",
     "output_type": "stream",
     "text": [
      "1 * 8 = 8\n",
      "2 * 8 = 16\n",
      "3 * 8 = 24\n",
      "4 * 8 = 32\n",
      "5 * 8 = 40\n",
      "6 * 8 = 48\n",
      "7 * 8 = 56\n",
      "8 * 8 = 64\n",
      "9 * 8 = 72\n",
      "eeee\n"
     ]
    }
   ],
   "source": [
    "template = '{0} * 8 = {1}'\n",
    "for i in range(1, 10):\n",
    "    print(template.format(i, i*8))\n",
    "print('eeee')"
   ]
  },
  {
   "cell_type": "code",
   "execution_count": null,
   "metadata": {},
   "outputs": [],
   "source": []
  },
  {
   "cell_type": "code",
   "execution_count": null,
   "metadata": {},
   "outputs": [],
   "source": []
  },
  {
   "cell_type": "markdown",
   "metadata": {},
   "source": [
    "**Задача 15.** Написать функцию **count**, которая правильно (в отличие от питоновской) ищет число подстрок в строке.  \\[в циклы\\]"
   ]
  },
  {
   "cell_type": "code",
   "execution_count": 3,
   "metadata": {},
   "outputs": [
    {
     "name": "stdout",
     "output_type": "stream",
     "text": [
      "python thinks there are 2 fragments of 'aa' in 'aaaa'.\n",
      "but should be 3\n"
     ]
    }
   ],
   "source": [
    "print('python thinks there are {0} fragments of \\'aa\\' in \\'aaaa\\'.'.format('aaaa'.count('aa')))\n",
    "print('but should be 3')"
   ]
  },
  {
   "cell_type": "code",
   "execution_count": null,
   "metadata": {},
   "outputs": [],
   "source": []
  },
  {
   "cell_type": "markdown",
   "metadata": {},
   "source": [
    "**Задача 16.** Написать программу, шифрующую введенный текст с помощью шифра Цезаря. (На вход также подается строка и число - на сколько сдвигается алфавит). \\[в циклы\\]"
   ]
  },
  {
   "cell_type": "code",
   "execution_count": null,
   "metadata": {},
   "outputs": [],
   "source": []
  },
  {
   "cell_type": "code",
   "execution_count": null,
   "metadata": {},
   "outputs": [],
   "source": []
  }
 ],
 "metadata": {
  "kernelspec": {
   "display_name": "Python 3 (ipykernel)",
   "language": "python",
   "name": "python3"
  },
  "language_info": {
   "codemirror_mode": {
    "name": "ipython",
    "version": 3
   },
   "file_extension": ".py",
   "mimetype": "text/x-python",
   "name": "python",
   "nbconvert_exporter": "python",
   "pygments_lexer": "ipython3",
   "version": "3.8.3"
  }
 },
 "nbformat": 4,
 "nbformat_minor": 2
}
