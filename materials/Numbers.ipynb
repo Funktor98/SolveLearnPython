{
 "cells": [
  {
   "cell_type": "markdown",
   "metadata": {},
   "source": [
    "# Numbers"
   ]
  },
  {
   "cell_type": "markdown",
   "metadata": {},
   "source": [
    "В переменные можно класть числа, как целые, так и дроби. Питон сам разберется, что это за число и как его хранить. Но всегда можно узнать, что он думает про это число. Целые числа Питон называет int (от *integer*), дробные - float (*float* - плавать, дробные числа еще называют числами с плавающей запятой)."
   ]
  },
  {
   "cell_type": "code",
   "execution_count": 1,
   "metadata": {},
   "outputs": [
    {
     "name": "stdout",
     "output_type": "stream",
     "text": [
      "<class 'int'>\n",
      "<class 'float'>\n"
     ]
    }
   ],
   "source": [
    "a = 5\n",
    "b = 3.5\n",
    "print(type(a))\n",
    "print(type(b))"
   ]
  },
  {
   "cell_type": "markdown",
   "metadata": {},
   "source": [
    "Для изменения типа можно использовать одноименные функции:"
   ]
  },
  {
   "cell_type": "code",
   "execution_count": 6,
   "metadata": {},
   "outputs": [
    {
     "name": "stdout",
     "output_type": "stream",
     "text": [
      "a = 5\n",
      "<class 'int'>\n",
      "\n",
      "Приведем число к дробному типу, выполнив a = float(a):\n",
      "a = 5.0\n",
      "<class 'float'>\n"
     ]
    }
   ],
   "source": [
    "a = 5\n",
    "print('a = {}'.format(a))\n",
    "print(type(a))\n",
    "\n",
    "print('\\nПриведем число к дробному типу, выполнив a = float(a):')\n",
    "a = float(a)\n",
    "print('a = {}'.format(a))\n",
    "print(type(a))"
   ]
  },
  {
   "cell_type": "markdown",
   "metadata": {},
   "source": [
    "При приведении числа к целому типу происходит округление вниз:"
   ]
  },
  {
   "cell_type": "code",
   "execution_count": 9,
   "metadata": {},
   "outputs": [
    {
     "name": "stdout",
     "output_type": "stream",
     "text": [
      "int(3.5) is 3\n",
      "int(2.3) is 2\n",
      "int(2.49) is 2\n",
      "int(2.51) is 2\n",
      "int(2.99) is 2\n"
     ]
    }
   ],
   "source": [
    "print('int({0}) is {1}'.format(b, int(b)))\n",
    "print('int(2.3) is {}'.format(int(2.3)))\n",
    "print('int(2.49) is {}'.format(int(2.49)))\n",
    "print('int(2.51) is {}'.format(int(2.51)))\n",
    "print('int(2.99) is {}'.format(int(2.99)))"
   ]
  },
  {
   "cell_type": "markdown",
   "metadata": {},
   "source": [
    "Для округления \"как в математике\" в питоне используется следующая функция: **round(number, precision)**. Первый параметр - число, которое нужно округлить, второй - сколько знаков после запятой нужно оставить."
   ]
  },
  {
   "cell_type": "code",
   "execution_count": 11,
   "metadata": {},
   "outputs": [
    {
     "name": "stdout",
     "output_type": "stream",
     "text": [
      "1.2\n",
      "1.235\n"
     ]
    }
   ],
   "source": [
    "print(round(1.234567, 1))\n",
    "print(round(1.234567, 3))"
   ]
  },
  {
   "cell_type": "markdown",
   "metadata": {},
   "source": [
    "## Арифметика\n",
    "Основные операции над числами выглядят как обычно:"
   ]
  },
  {
   "cell_type": "code",
   "execution_count": 25,
   "metadata": {},
   "outputs": [
    {
     "name": "stdout",
     "output_type": "stream",
     "text": [
      "a = 15.5, b = 8, c = 3\n",
      "\n",
      "a + b = 23.5\n",
      "a * b = 124.0\n",
      "b / c = 2.6666666666666665. (Обычное деление)\n",
      "b // c = 2. (Целочисленное деление (но результат все равно типа float!))\n",
      "Чтобы получить остаток, нужно использовать %\n",
      "b % c = 2\n",
      "b ** c = 512. (Возведение в степень)\n",
      "\n",
      "Чтобы взять квадратный корень, можно использовать возведение в степень 0.5\n",
      "81 ** 0.5 = 9.0\n",
      "\n",
      "Модуль числа a можно выяснить, используя функцию abs: abs(-5.3) = 5.3\n"
     ]
    }
   ],
   "source": [
    "a = 15.5\n",
    "b = 8\n",
    "c = 3\n",
    "print('a = {0}, b = {1}, c = {2}'.format(a,b,c))\n",
    "print()\n",
    "\n",
    "print('a + b = {}'.format(a + b))\n",
    "print('a * b = {}'.format(a * b))\n",
    "print('b / c = {}. (Обычное деление)'.format(b / c))\n",
    "print('b // c = {}. (Целочисленное деление (но результат все равно типа float!))'.format(b // c))\n",
    "print('Чтобы получить остаток, нужно использовать %')\n",
    "print('b % c = {}'.format(b % c))\n",
    "print('b ** c = {}. (Возведение в степень)'.format(b**c))\n",
    "print()\n",
    "print('Чтобы взять квадратный корень, можно использовать возведение в степень 0.5')\n",
    "print('81 ** 0.5 = {}'.format(81 ** 0.5))\n",
    "print()\n",
    "print('Модуль числа a можно выяснить, используя функцию abs: abs(-5.3) = {}'.format(abs(-5.3)))"
   ]
  },
  {
   "cell_type": "markdown",
   "metadata": {},
   "source": [
    "Дополнительные функции (логарифм, тригонометрические функции, квадратный корень) лежат в отдельном файле math. Питон знает про этот файл. Если в вашей программе написать в начале *import math*, Питон будет иметь в виду, что вы, возможно, будете пользоваться функциями из этого файла. Выглядит это следующим образом:"
   ]
  },
  {
   "cell_type": "code",
   "execution_count": 1,
   "metadata": {},
   "outputs": [
    {
     "name": "stdout",
     "output_type": "stream",
     "text": [
      "math.sqrt(4) = 2.0\n",
      "math.log(8, 2) = 3.0\n",
      "math.sin(1.57) = 0.9999996829318346. Заметим, что угол измеряется в радианах.\n"
     ]
    }
   ],
   "source": [
    "import math\n",
    "\n",
    "print('math.sqrt(4) = {}'.format(math.sqrt(4)))\n",
    "print('math.log(8, 2) = {}'.format(math.log(8, 2)))\n",
    "print('math.sin(1.57) = {}.'.format(math.sin(1.57)))"
   ]
  },
  {
   "cell_type": "markdown",
   "metadata": {},
   "source": [
    " Заметим, что угол Питон воспринимает в радианах. Чтобы перевести угол из радиан в градусы, его нужно домножить на $\\frac{180}{\\pi}$ (так как 360 градусов соответствуют $2\\pi$)"
   ]
  },
  {
   "cell_type": "markdown",
   "metadata": {},
   "source": [
    "Числа $e$ и $\\pi$ также лежат в файле *math*:"
   ]
  },
  {
   "cell_type": "code",
   "execution_count": 3,
   "metadata": {},
   "outputs": [
    {
     "name": "stdout",
     "output_type": "stream",
     "text": [
      "math.e = 2.718281828459045\n",
      "math.pi = 3.141592653589793\n",
      "sin(90) = 1.0\n"
     ]
    }
   ],
   "source": [
    "print('math.e = {}'.format(math.e))\n",
    "print('math.pi = {}'.format(math.pi))\n",
    "print('sin(90) = {}'.format(math.sin(90 * math.pi / 180)))"
   ]
  },
  {
   "cell_type": "markdown",
   "metadata": {},
   "source": [
    "## Функции max и min\n",
    "Для вычисления наибольшего и наименьшего числа среди нескольких чисел есть функции *max* и *min*."
   ]
  },
  {
   "cell_type": "code",
   "execution_count": 7,
   "metadata": {},
   "outputs": [
    {
     "name": "stdout",
     "output_type": "stream",
     "text": [
      "1\n",
      "2\n",
      "\n",
      "1\n",
      "6\n"
     ]
    }
   ],
   "source": [
    "print(min(1,2))\n",
    "print(max(1,2))\n",
    "print()\n",
    "print(min(1,2,3,4,5,6))\n",
    "print(max(1,2,3,4,5,6))"
   ]
  },
  {
   "cell_type": "code",
   "execution_count": null,
   "metadata": {},
   "outputs": [],
   "source": []
  }
 ],
 "metadata": {
  "kernelspec": {
   "display_name": "Python 3 (ipykernel)",
   "language": "python",
   "name": "python3"
  },
  "language_info": {
   "codemirror_mode": {
    "name": "ipython",
    "version": 3
   },
   "file_extension": ".py",
   "mimetype": "text/x-python",
   "name": "python",
   "nbconvert_exporter": "python",
   "pygments_lexer": "ipython3",
   "version": "3.8.3"
  }
 },
 "nbformat": 4,
 "nbformat_minor": 2
}
